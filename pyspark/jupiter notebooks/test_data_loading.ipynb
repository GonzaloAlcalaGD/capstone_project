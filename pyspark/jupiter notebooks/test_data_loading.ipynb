{
 "cells": [
  {
   "cell_type": "code",
   "execution_count": 580,
   "metadata": {},
   "outputs": [],
   "source": [
    "from pyspark.sql import SparkSession\n",
    "from pyspark import SparkContext, SparkConf\n",
    "from pyspark.sql import functions as sqlf \n",
    "#col, lit, udf,sum,avg,max,min,mean,count, udf \n",
    "from pyspark.sql.types import StructType, StructField, StringType, IntegerType, FloatType, DoubleType, LongType"
   ]
  },
  {
   "cell_type": "code",
   "execution_count": 581,
   "metadata": {},
   "outputs": [],
   "source": [
    "spark = SparkSession.builder.appName('Stage - Ingest').getOrCreate()\n",
    "conf = SparkConf().setAppName('Stage - Ingest')\n",
    "sc = SparkContext.getOrCreate(conf=conf)"
   ]
  },
  {
   "cell_type": "code",
   "execution_count": 582,
   "metadata": {},
   "outputs": [],
   "source": [
    "import json\n",
    "import logging\n",
    "from pandas import DataFrame\n",
    "import os\n",
    "import pendulum\n",
    "from datetime import datetime\n",
    "\n",
    "def get_subdirectories(path: str) -> list:\n",
    "    \"\"\"\n",
    "    Function that searchs for sub-directories inside a directory \n",
    "    then returns a list of all the directories names.\n",
    "    \"\"\"\n",
    "    if path.split('/')[7] in ['customer', 'transaction']:\n",
    "        subdirectories = [f.path for f in os.scandir(path) if f.is_dir()]\n",
    "        subdirectories = [x.split('/')[8] for x in subdirectories]\n",
    "        csv_directories = [directory.split('_')[1] for directory in subdirectories]\n",
    "        return csv_directories\n",
    "    else:\n",
    "        subdirectories = [f.path for f in os.scandir(path) if f.is_dir()]\n",
    "        subdirectories = [x.split('/')[7] for x in subdirectories]\n",
    "        return [datetime.strptime(directory, '%Y-%m-%d').date() for directory in subdirectories] \n",
    "        \n",
    "\n",
    "def get_latest_folder(folders: list) -> str:\n",
    "    \"\"\"\n",
    "    Returns the latest date from the list.\n",
    "    \"\"\"\n",
    "    try:\n",
    "        return str(max(folders))\n",
    "    except:\n",
    "        return logging.critical('Couldn\\'t find any sub-directory.')\n",
    "\n",
    "\n",
    "def loadJsonData(json_path: str) -> DataFrame:\n",
    "    \"\"\"\n",
    "    Function that returns a dataframe from a valid directory that contains jsonlines files.\n",
    "    \"\"\"\n",
    "    latest = get_latest_folder(get_subdirectories(json_path))\n",
    "    if os.path.exists(os.path.dirname(os.path.join(json_path, latest))):\n",
    "        df = spark.read.json(os.path.join(json_path, latest))\n",
    "        return df\n",
    "    else:\n",
    "        return logging.critical('Path to jsonl files doesn\\'t exist')\n",
    "\n",
    "\n",
    "def loadParquetData(parquet_path: str) -> DataFrame:\n",
    "    \"\"\"\n",
    "    Function that returns a dataframe from a valid directory that contains parquet files.\n",
    "    \"\"\"\n",
    "    latest = get_latest_folder(get_subdirectories(parquet_path))\n",
    "    if os.path.exists(os.path.dirname(parquet_path)):\n",
    "        df = spark.read.option('recursiveFileLookup', 'true').option('header', 'true').parquet(parquet_path)\n",
    "        return df\n",
    "    else:\n",
    "        return logging.critical('Path to parquet file deosn\\'t exist')\n",
    "\n",
    "\n",
    "def loadCSVData(csv_path: str) -> DataFrame:\n",
    "    \"\"\"\n",
    "    Function that returns a dataframe from a valid directory that contains csv files.\n",
    "    \"\"\"\n",
    "    latest = get_latest_folder(get_subdirectories(csv_path))\n",
    "    if os.path.exists(os.path.dirname(csv_path)):\n",
    "        df = spark.read.option('recursiveFileLookup', 'true').option('header', 'true').csv(csv_path)\n",
    "        return df\n",
    "    else:\n",
    "        return logging.critical('Path to csv file doesn\\'t exist')"
   ]
  },
  {
   "cell_type": "code",
   "execution_count": 585,
   "metadata": {},
   "outputs": [
    {
     "data": {
      "text/plain": [
       "100"
      ]
     },
     "execution_count": 585,
     "metadata": {},
     "output_type": "execute_result"
    }
   ],
   "source": [
    "# Ingesting jsonlines data\n",
    "jsonDF = loadJsonData(json_path='/Users/gonzo/Desktop/capstone_project/data_storage/json_storage/')\n",
    "jsonDF = jsonDF.select('id', 'ts', 'customer_first_name', 'customer_last_name', 'amount', 'type')\n",
    "# jsonDF.select(['id']).distinct().count()\n",
    "jsonDF = jsonDF.repartition(2)\n",
    "jsonDF.count()"
   ]
  },
  {
   "cell_type": "code",
   "execution_count": 586,
   "metadata": {},
   "outputs": [
    {
     "data": {
      "text/plain": [
       "100"
      ]
     },
     "execution_count": 586,
     "metadata": {},
     "output_type": "execute_result"
    }
   ],
   "source": [
    "# Ingesting parquet data\n",
    "parquetDF = loadParquetData(parquet_path='/Users/gonzo/Desktop/capstone_project/data_storage/parquet_storage/')\n",
    "parquetDF = parquetDF.repartition(2)\n",
    "parquetDF.count()"
   ]
  },
  {
   "cell_type": "code",
   "execution_count": 602,
   "metadata": {},
   "outputs": [
    {
     "data": {
      "text/plain": [
       "100"
      ]
     },
     "execution_count": 602,
     "metadata": {},
     "output_type": "execute_result"
    }
   ],
   "source": [
    "# Ingesting RDBMS (PostgreSQL) data\n",
    "customerDF = loadCSVData(csv_path='/Users/gonzo/Desktop/capstone_project/data_storage/pgdata/customer/')\n",
    "customerDF = customerDF.repartition(2)\n",
    "customerDF.count()"
   ]
  },
  {
   "cell_type": "code",
   "execution_count": 603,
   "metadata": {},
   "outputs": [
    {
     "data": {
      "text/plain": [
       "100"
      ]
     },
     "execution_count": 603,
     "metadata": {},
     "output_type": "execute_result"
    }
   ],
   "source": [
    "# Ingesting RDBMS (PostgreSQL) data\n",
    "transactionDF = loadCSVData(csv_path='/Users/gonzo/Desktop/capstone_project/data_storage/pgdata/transaction/')\n",
    "transactionDF = transactionDF.repartition(2)\n",
    "transactionDF.count()"
   ]
  },
  {
   "cell_type": "code",
   "execution_count": 604,
   "metadata": {},
   "outputs": [],
   "source": [
    "parquetDF = parquetDF.withColumnRenamed('First_name', 'customer_first_name')\n",
    "parquetDF = parquetDF.withColumnRenamed('Last_name', 'customer_last_name')\n",
    "parquetDF = parquetDF.withColumnRenamed('Amount', 'amount')\n",
    "jsonDF = jsonDF.withColumnRenamed('ts', 'timestamp')\n",
    "jsonDF = jsonDF.withColumnRenamed('Store_id', 'store_id')"
   ]
  },
  {
   "cell_type": "code",
   "execution_count": 605,
   "metadata": {},
   "outputs": [
    {
     "name": "stdout",
     "output_type": "stream",
     "text": [
      "+---+----+--------+----------+-------------------+------------------+-------------------+\n",
      "| id|type|store_id|    amount|customer_first_name|customer_last_name|          timestamp|\n",
      "+---+----+--------+----------+-------------------+------------------+-------------------+\n",
      "|  2|   1|    null|     $4.18|             Brenda|           Sanchez|2022-10-02T19:27:13|\n",
      "|  4|   0|    null|$23,199.16|               Dawn|              Hill|2022-10-03T02:55:52|\n",
      "|  6|   0|    null|$84,143.57|            Jeffrey|          Gonzales|2022-10-04T01:20:01|\n",
      "|  7|null|      17|   $711.35|             Thomas|            Oliver|2022-10-05T10:52:27|\n",
      "| 10|null|      20|    $67.40|            William|             Reyes|2022-10-04T10:15:45|\n",
      "| 11|null|       2| $4,516.14|             Jeremy|             Moody|2022-10-03T13:18:38|\n",
      "| 19|   0|    null|     $7.75|              Sarah|             Craig|2022-10-04T19:55:02|\n",
      "| 23|null|      18|    $24.07|             Brandi|             Ortiz|2022-10-03T16:48:06|\n",
      "| 28|null|      13|    $73.06|            Anthony|            Harper|2022-10-03T14:18:29|\n",
      "| 45|null|      17|   $654.54|             Joshua|           Johnson|2022-10-02T15:59:26|\n",
      "| 46|   0|    null|   $574.71|              Sarah|             Jones|2022-10-04T10:59:18|\n",
      "| 47|   0|    null|   $483.24|              Peter|              Mack|2022-10-04T18:57:20|\n",
      "| 57|null|       9| $9,925.79|            Matthew|             Scott|2022-10-04T03:25:29|\n",
      "| 65|   1|    null|   $706.25|           Kathleen|             Smith|2022-10-04T03:05:55|\n",
      "| 68|   1|    null|   $193.77|                Kim|              Meza|2022-10-04T05:33:24|\n",
      "| 73|null|       4| $5,917.84|              Kevin|           Edwards|2022-10-05T06:20:34|\n",
      "| 76|null|       6|    $29.58|           Isabella|              Wise|2022-10-05T01:20:07|\n",
      "| 80|null|       8|   $502.08|              Tyler|            Medina|2022-10-03T04:09:56|\n",
      "| 90|null|       7| $8,148.11|            Anthony|           Bridges|2022-10-05T10:26:03|\n",
      "| 97|   0|    null|     $4.51|             Donald|             Bowen|2022-10-04T01:45:40|\n",
      "+---+----+--------+----------+-------------------+------------------+-------------------+\n",
      "only showing top 20 rows\n",
      "\n"
     ]
    }
   ],
   "source": [
    "# Parquet & Json\n",
    "json_parquetDF = jsonDF.join(parquetDF, ['id', 'customer_first_name', 'customer_last_name', 'amount', 'timestamp'], \"fullouter\")\n",
    "json_parquetDF = json_parquetDF.select('id', 'type', 'store_id', 'amount', 'customer_first_name', 'customer_last_name', 'timestamp')\n",
    "json_parquetDF.show()"
   ]
  },
  {
   "cell_type": "code",
   "execution_count": 607,
   "metadata": {},
   "outputs": [
    {
     "name": "stdout",
     "output_type": "stream",
     "text": [
      "+---+-----------+----------+-----------+----------+------------+-----------------+-------------------+\n",
      "| id|customer_id|    amount| first_name| last_name|phone_number|          address|     transaction_ts|\n",
      "+---+-----------+----------+-----------+----------+------------+-----------------+-------------------+\n",
      "|778|         39| $8,278.52|    Cynthia|   Johnson|  3253956605|      Veronicaton|2022-10-03 15:09:37|\n",
      "| 33|        191| $2,917.29|       John|     Burns|  8671875822|Port Benjaminfurt|2022-10-03 05:58:39|\n",
      "|482|        106| $7,042.53|      Carol| Rodriguez|  9808399017|      Veronicaton|2022-10-03 03:48:50|\n",
      "|609|        759|    $41.25|    Cynthia| Hernandez|  1825888381|       Robertland|2022-10-03 22:08:51|\n",
      "|459|        358|   $709.30|       Leah|      Ward|  2449557321|      Lake Karina|2022-10-03 02:52:32|\n",
      "|414|         52|    $50.11|      David|      Barr|  2388757413|      Veronicaton|2022-10-04 16:07:52|\n",
      "|556|        808|     $6.85|      Kelly|     Smith|  3880545614|        Smithberg|2022-10-04 11:57:27|\n",
      "|199|        666|$12,611.06|       Lynn|   Swanson|  1308999765|        Erikville|2022-10-03 20:20:26|\n",
      "|633|        691|    $82.76|    Rebecca|     White|  8816293027|         Clayview|2022-10-03 14:36:35|\n",
      "|299|        387| $3,098.35|      Peter|    Fisher|  4775028457|Port Benjaminfurt|2022-10-04 04:36:48|\n",
      "|524|        601|     $4.16|     Robert|   Bullock|  6224540673|         Clayview|2022-10-03 12:21:37|\n",
      "|761|        652|   $425.28|Christopher|   Stevens|  9911692402|New Marthaborough|2022-10-04 20:20:26|\n",
      "|249|        796|$23,476.67|    Tiffany|  Garrison|  2366958709|      Melissafurt|2022-10-03 19:17:45|\n",
      "|593|        846| $8,504.85|      David|  Thompson|  6354258810|       Averymouth|2022-10-04 16:19:48|\n",
      "|222|          2|   $382.70|      Jesse|  Williams|  2446792417|     Brownchester|2022-10-02 18:46:05|\n",
      "|851|        409|    $41.00|Christopher|    Harvey|  8820598051|       Averymouth|2022-10-04 12:17:51|\n",
      "| 41|        840|    $81.96|   Veronica|  Williams|  4852270998|         Lanefurt|2022-10-02 19:11:14|\n",
      "|559|         89|$20,344.56|    Douglas|  Phillips|  0812632263|         Lanefurt|2022-10-04 15:47:47|\n",
      "|544|        594|$65,182.95|    Melissa|  Thompson|  5220792018|Port Benjaminfurt|2022-10-02 14:20:34|\n",
      "|237|        362| $6,350.88|   Mckenzie|      Dean|  0832472650|        Smithberg|2022-10-03 22:50:00|\n",
      "|308|        295|     $9.41|  Alexander|    Clarke|  1182263360|     Edwardsburgh|2022-10-03 19:56:15|\n",
      "|694|        221|   $613.15|      Megan|     Smith|  7740943003|     Edwardsburgh|2022-10-05 05:45:14|\n",
      "|679|        423|$22,232.93|      Julie|   Gilmore|  2993695570|      Melissafurt|2022-10-04 20:55:32|\n",
      "|129|        837|    $27.51|    Tiffany|   Farrell|  0174130827|New Marthaborough|2022-10-03 10:40:03|\n",
      "| 12|        705|    $37.96|   Patricia|  Williams|  1624390971|Port Benjaminfurt|2022-10-03 02:41:43|\n",
      "|500|        873|$10,513.60|     Tamara|     Smith|  0923886379|      Veronicaton|2022-10-03 11:52:49|\n",
      "| 43|        405|    $91.78|    Zachary|    Ramsey|  6457314142|        Hicksview|2022-10-05 05:53:04|\n",
      "|617|        331|    $11.43|      Tammy|     Huang|  0871774292|     Brownchester|2022-10-04 06:41:17|\n",
      "|240|        571|   $125.38|   Victoria|   Hendrix|  6381835167|      Lake Karina|2022-10-04 08:19:08|\n",
      "|444|        361|     $8.35|     Amanda|    Nelson|  6123614837|    Michelleburgh|2022-10-02 16:33:55|\n",
      "|688|        488|$35,858.27|    William| Rasmussen|  7734863626|New Marthaborough|2022-10-05 04:40:34|\n",
      "|424|        891|   $734.20|     Robert|   Brennan|  5366474143|     West Nichole|2022-10-03 12:45:04|\n",
      "|325|        851|    $71.47|    Zachary|     Perez|  8603441510|       Grahamstad|2022-10-04 18:12:23|\n",
      "|705|         87|    $61.52|      Scott|   Vazquez|  7187411263|      Melissafurt|2022-10-03 11:58:10|\n",
      "|658|        110|   $186.95|      Kevin|     Scott|  3209615463|       Averymouth|2022-10-02 13:43:54|\n",
      "|803|        211|   $414.29|       Mary|   Mcmahon|  8765744533|     Brownchester|2022-10-05 05:16:16|\n",
      "| 18|        363|   $654.36|     Denise|  Anderson|  5718166161|      Melissafurt|2022-10-03 12:56:18|\n",
      "|756|        125|$72,918.43|    Heather|Montgomery|  7380781141|Port Benjaminfurt|2022-10-05 06:41:24|\n",
      "|285|        607|     $6.33|       Adam| Armstrong|  7507613719|        Erikville|2022-10-04 03:13:54|\n",
      "|830|        210|    $73.33|      Diane|     Henry|  2108985424|    Port Loriview|2022-10-04 15:19:42|\n",
      "|826|        228| $3,486.91|      Tammy|     Simon|  9490955624|        Erikville|2022-10-03 06:28:18|\n",
      "|691|        519|   $417.90|      Jason| Rodriguez|  3327301660|     Brownchester|2022-10-03 21:06:23|\n",
      "|741|        576| $8,222.15|    Matthew|   Johnson|  0861318748|        Erikville|2022-10-02 12:58:01|\n",
      "|734|        291|$53,224.48|     Nicole|   Carroll|  0736462580|    Michelleburgh|2022-10-04 22:42:00|\n",
      "|341|        442|   $188.14|       Carl|  Stephens|  3822009809|      Lake Karina|2022-10-03 22:45:02|\n",
      "|242|        170| $8,151.78|   Kimberly|   Cameron|  6044982568|         Clayview|2022-10-02 14:11:59|\n",
      "|626|        680|$20,339.45|      Jamie|     Smith|  3296690045|      Veronicaton|2022-10-03 09:06:42|\n",
      "|539|        480|$52,058.45|     Ashley|  Williams|  2481339010|       Grahamstad|2022-10-02 16:23:42|\n",
      "|666|        617|   $115.50|       Kara|    Wagner|  1169674575|        Erikville|2022-10-05 08:56:02|\n",
      "|555|        268|$48,620.80|       Dawn|    Butler|  0389827908|     Brownchester|2022-10-05 05:34:39|\n",
      "|280|        509|$30,407.53|      Haley|   Hawkins|  8642515731|      Melissafurt|2022-10-03 11:34:32|\n",
      "|276|         99|$13,469.52|  Christine|   Jenkins|  8127765681|Port Benjaminfurt|2022-10-04 20:39:11|\n",
      "|460|         52| $1,517.44|     Steven|     James|  6944540810|        Hicksview|2022-10-03 03:00:21|\n",
      "|170|        689| $4,249.06|     Arthur|    Hester|  9696686678|     West Nichole|2022-10-03 08:34:01|\n",
      "|230|        135|$56,969.13|     Rodney|    Hansen|  8320254682|     West Nichole|2022-10-04 02:20:57|\n",
      "|881|        367|   $375.75|     Tamara|  Gonzales|  5134088885|      Veronicaton|2022-10-05 07:22:57|\n",
      "|671|        753|   $566.06|    Jessica|     Scott|  4499703128|        Smithberg|2022-10-05 11:43:50|\n",
      "|634|        753| $8,806.84|     Sharon|    Garcia|  2640279537|Port Benjaminfurt|2022-10-05 11:36:34|\n",
      "|288|        756| $2,626.56|      Megan|     Weber|  6331206019|  Lake Jamesville|2022-10-04 00:58:10|\n",
      "|550|        537|     $5.56|    Christy|   Webster|  1708396924|Port Benjaminfurt|2022-10-05 10:47:53|\n",
      "|447|        383|$41,071.09|   Reginald| Mcconnell|  2222850799|      Lake Karina|2022-10-04 21:50:34|\n",
      "|816|        683| $8,078.37|      Julie|    Dorsey|  6583481878|       Averymouth|2022-10-04 22:16:42|\n",
      "|854|        404|    $22.96|   Brittany|     Allen|  5632846459|         Allenton|2022-10-04 08:57:35|\n",
      "|678|        740|$99,439.55|       John|     Davis|  5598504008|      Lake Karina|2022-10-04 14:40:36|\n",
      "|383|        389|    $82.44|      Donna|    Rivera|  1444524704|    Michelleburgh|2022-10-04 22:50:10|\n",
      "|528|        881|   $207.13|   Cristian|    Romero|  5197726562|       Averymouth|2022-10-05 00:11:31|\n",
      "|315|        753|$55,575.70| Jacqueline|   Bennett|  5372596139|     West Nichole|2022-10-03 09:12:15|\n",
      "|358|        656|     $6.60|       Adam|    Benson|  5025744946|        Smithberg|2022-10-02 23:59:20|\n",
      "|508|         64| $9,997.73|      Kevin|      Ward|  3866130003|         Allenton|2022-10-05 04:13:04|\n",
      "|781|        848|    $20.63|      Jason|   Jenkins|  3604057231|        Erikville|2022-10-05 11:22:41|\n",
      "|398|        678|     $0.67|     Samuel|     Lewis|  0638466687|        Smithberg|2022-10-04 10:25:06|\n",
      "|337|        286| $8,535.49|    Felicia|     Jones|  1839349418|         Lanefurt|2022-10-04 07:12:48|\n",
      "| 59|        671| $7,849.37|     Jordan|    Fisher|  6219321808|         Allenton|2022-10-04 01:40:54|\n",
      "|788|        736|$19,425.80|     Marcus|   Everett|  7822771630|       Robertland|2022-10-03 13:06:28|\n",
      "|379|        229|$49,262.72|       Eric|   Stanley|  5302630562|       Robertland|2022-10-02 19:10:03|\n",
      "|534|         53| $2,796.26|    Bradley|      Cook|  7111430381|       Averymouth|2022-10-02 15:00:16|\n",
      "|218|        329|   $381.18|   Kimberly|     Baker|  5596293609|         Clayview|2022-10-04 16:49:12|\n",
      "| 58|        462|   $115.29|       Ryan|    Garcia|  3285654271|         Lanefurt|2022-10-02 20:56:17|\n",
      "|875|        680|    $79.78|     Manuel|     Owens|  4537434977|      Lake Karina|2022-10-04 21:20:57|\n",
      "| 17|        530|$65,981.69|  Stephanie|    Chavez|  9952997214|    Michelleburgh|2022-10-02 15:00:14|\n",
      "| 83|         13| $4,171.11|    Gregory|  Mcmillan|  6535423571|         Clayview|2022-10-05 00:28:50|\n",
      "| 54|        423|    $79.18|    Michael|   Johnson|  8947261122|    Port Loriview|2022-10-03 00:17:35|\n",
      "|893|        699|   $216.84|     Dustin|      Luna|  2815708255|     Brownchester|2022-10-03 17:58:18|\n",
      "|890|        472|     $9.38|      Jared|Fitzgerald|  7449373848|      Veronicaton|2022-10-04 00:11:07|\n",
      "|849|        305| $2,595.04|    Yolanda|    Hanson|  2292817824|        Hicksview|2022-10-03 00:04:06|\n",
      "|611|        196|   $583.06|       Joel|    Murray|  0407299545|  Lake Jamesville|2022-10-05 07:19:21|\n",
      "|613|        288|   $988.37|      Amber|     Baker|  1010874540|     West Nichole|2022-10-03 21:42:16|\n",
      "|226|        310|   $107.21|     Edward|  Galloway|  9966544188|      Melissafurt|2022-10-03 14:23:16|\n",
      "|866|        371| $3,146.52|      Debra|   Ramirez|  6760142880|         Clayview|2022-10-04 05:43:48|\n",
      "|628|        709|$18,344.42|    Brandon|     Logan|  4074657274|      Lake Karina|2022-10-03 07:12:31|\n",
      "|343|        893|     $9.29|      Susan|     Jones|  6629756527|     West Nichole|2022-10-05 08:36:28|\n",
      "|219|        308|     $8.29|     Justin|    Waters|  2556250708|     Brownchester|2022-10-04 20:44:06|\n",
      "|836|        316|$59,665.01|    Bethany|     Brock|  5737632002|        Smithberg|2022-10-03 01:38:03|\n",
      "|668|        876|     $0.63|     Angela|    Becker|  0645754275|       Grahamstad|2022-10-03 05:48:02|\n",
      "|623|        641|     $6.13|       Adam|     Mejia|  5345726733|        Erikville|2022-10-03 15:05:04|\n",
      "|445|        813| $7,341.87|       Mary|    Fields|  2820740098|       Robertland|2022-10-04 19:23:19|\n",
      "|419|        541|   $757.13|Christopher|    Murray|  9982797324|         Lanefurt|2022-10-03 06:07:04|\n",
      "|526|         35|     $1.21|       Jose|     Perry|  0189161517|        Smithberg|2022-10-04 16:10:51|\n",
      "|701|        408|$27,460.40|       Todd|    Golden|  4316158441|    Port Loriview|2022-10-05 12:18:57|\n",
      "|598|        396|$72,402.01|    Michael|     Ortiz|  7164476916|Port Benjaminfurt|2022-10-03 12:02:48|\n",
      "+---+-----------+----------+-----------+----------+------------+-----------------+-------------------+\n",
      "\n"
     ]
    }
   ],
   "source": [
    "# Both dataframes from postgresql\n",
    "postgresqlDF = customerDF.join(transactionDF, ['id'], \"inner\")\n",
    "postgresqlDF = postgresqlDF.select('id', 'customer_id', 'amount', 'first_name', 'last_name', 'phone_number', 'address', 'transaction_ts')\n",
    "postgresqlDF.show(100)"
   ]
  },
  {
   "cell_type": "code",
   "execution_count": 684,
   "metadata": {},
   "outputs": [
    {
     "name": "stdout",
     "output_type": "stream",
     "text": [
      "+---+-----------+----------+-------------------+------------------+------------+-----------------+----------+\n",
      "| id|customer_id|    amount|customer_first_name|customer_last_name|phone_number|          address| timestamp|\n",
      "+---+-----------+----------+-------------------+------------------+------------+-----------------+----------+\n",
      "|778|        778| $8,278.52|            Cynthia|           Johnson|  3253956605|      Veronicaton|2022-10-03|\n",
      "| 33|         33| $2,917.29|               John|             Burns|  8671875822|Port Benjaminfurt|2022-10-03|\n",
      "|482|        482| $7,042.53|              Carol|         Rodriguez|  9808399017|      Veronicaton|2022-10-03|\n",
      "|609|        609|    $41.25|            Cynthia|         Hernandez|  1825888381|       Robertland|2022-10-03|\n",
      "|459|        459|   $709.30|               Leah|              Ward|  2449557321|      Lake Karina|2022-10-03|\n",
      "|414|        414|    $50.11|              David|              Barr|  2388757413|      Veronicaton|2022-10-04|\n",
      "|556|        556|     $6.85|              Kelly|             Smith|  3880545614|        Smithberg|2022-10-04|\n",
      "|199|        199|$12,611.06|               Lynn|           Swanson|  1308999765|        Erikville|2022-10-03|\n",
      "|633|        633|    $82.76|            Rebecca|             White|  8816293027|         Clayview|2022-10-03|\n",
      "|299|        299| $3,098.35|              Peter|            Fisher|  4775028457|Port Benjaminfurt|2022-10-04|\n",
      "|524|        524|     $4.16|             Robert|           Bullock|  6224540673|         Clayview|2022-10-03|\n",
      "|761|        761|   $425.28|        Christopher|           Stevens|  9911692402|New Marthaborough|2022-10-04|\n",
      "|249|        249|$23,476.67|            Tiffany|          Garrison|  2366958709|      Melissafurt|2022-10-03|\n",
      "|593|        593| $8,504.85|              David|          Thompson|  6354258810|       Averymouth|2022-10-04|\n",
      "|222|        222|   $382.70|              Jesse|          Williams|  2446792417|     Brownchester|2022-10-02|\n",
      "|851|        851|    $41.00|        Christopher|            Harvey|  8820598051|       Averymouth|2022-10-04|\n",
      "| 41|         41|    $81.96|           Veronica|          Williams|  4852270998|         Lanefurt|2022-10-02|\n",
      "|559|        559|$20,344.56|            Douglas|          Phillips|  0812632263|         Lanefurt|2022-10-04|\n",
      "|544|        544|$65,182.95|            Melissa|          Thompson|  5220792018|Port Benjaminfurt|2022-10-02|\n",
      "|237|        237| $6,350.88|           Mckenzie|              Dean|  0832472650|        Smithberg|2022-10-03|\n",
      "+---+-----------+----------+-------------------+------------------+------------+-----------------+----------+\n",
      "only showing top 20 rows\n",
      "\n"
     ]
    }
   ],
   "source": [
    "from tokenize import String\n",
    "\n",
    "\n",
    "postgresqlDF = postgresqlDF.withColumnRenamed('first_name', 'customer_first_name')\n",
    "postgresqlDF = postgresqlDF.withColumnRenamed('last_name', 'customer_last_name')\n",
    "postgresqlDF = postgresqlDF.withColumnRenamed('transaction_ts', 'timestamp')\n",
    "\"\"\"\n",
    "Change id str -> long\n",
    "customer_id str -> long\n",
    "timestamp remove ' ' \n",
    "\"\"\"\n",
    "def transform_timestampPSQL(x) -> str:\n",
    "    return x.split(' ')[0]\n",
    "\n",
    "timestampPSQLUDF = sqlf.udf(lambda x : transform_timestampPSQL(x), StringType())\n",
    "\n",
    "postgresqlDF = postgresqlDF.withColumn('id', postgresqlDF['id'].cast(LongType()))\n",
    "postgresqlDF = postgresqlDF.withColumn('customer_id', postgresqlDF['id'].cast(LongType()))\n",
    "postgresqlDF = postgresqlDF.withColumn('timestamp', timestampPSQLUDF(postgresqlDF.timestamp))\n",
    "postgresqlDF.show()"
   ]
  },
  {
   "cell_type": "code",
   "execution_count": 685,
   "metadata": {},
   "outputs": [
    {
     "data": {
      "text/plain": [
       "300"
      ]
     },
     "execution_count": 685,
     "metadata": {},
     "output_type": "execute_result"
    }
   ],
   "source": [
    "unified_model = json_parquetDF.join(postgresqlDF, ['id', 'amount', 'customer_first_name', 'customer_last_name', 'timestamp'], 'fullouter')\n",
    "unified_model = unified_model.select('id', 'customer_id', 'store_id', 'type', 'amount', 'customer_first_name', 'customer_last_name', 'phone_number', 'address', 'timestamp')\n",
    "unified_model.count()"
   ]
  },
  {
   "cell_type": "code",
   "execution_count": 611,
   "metadata": {},
   "outputs": [],
   "source": [
    "\n",
    "# unified_model.coalesce(1)\n",
    "# unified_model = unified_model.repartition(2)\n",
    "# unified_model.write.csv('/Users/gonzo/Desktop/capstone_project/data_storage/storage/test', header=True)"
   ]
  },
  {
   "cell_type": "code",
   "execution_count": 686,
   "metadata": {},
   "outputs": [],
   "source": [
    "\"\"\"\n",
    "Transform amount str -> float\n",
    "\"\"\"\n",
    "from hashlib import new\n",
    "\n",
    "\n",
    "def transform_amount(x) -> list:\n",
    "    return float(x[1:].replace(',', ''))\n",
    "\n",
    "\n",
    "def transform_timestamp(x) -> str:\n",
    "    return x.split('T')[0]\n",
    "\n",
    "transformUDF = sqlf.udf(lambda x : transform_amount(x), FloatType())\n",
    "timestampUDF = sqlf.udf(lambda x : transform_timestamp(x), StringType())\n",
    "\n",
    "dumpDF = unified_model.withColumn('float_amount', transformUDF(unified_model.amount))\n",
    "dumpDF = dumpDF.withColumn('timestamp', timestampUDF(dumpDF.timestamp))"
   ]
  },
  {
   "cell_type": "code",
   "execution_count": 687,
   "metadata": {},
   "outputs": [],
   "source": [
    "unified_model = dumpDF.select('id', 'customer_id', 'store_id', 'type', 'float_amount', 'customer_first_name', 'customer_last_name', 'phone_number', 'address', 'timestamp')\n",
    "unified_model = unified_model.withColumnRenamed('float_amount', 'amount')"
   ]
  },
  {
   "cell_type": "code",
   "execution_count": 708,
   "metadata": {},
   "outputs": [
    {
     "name": "stdout",
     "output_type": "stream",
     "text": [
      "+---+-----------+--------+----+--------+-------------------+------------------+------------+-----------------+----------+\n",
      "| id|customer_id|store_id|type|  amount|customer_first_name|customer_last_name|phone_number|          address| timestamp|\n",
      "+---+-----------+--------+----+--------+-------------------+------------------+------------+-----------------+----------+\n",
      "|  2|       null|    null|   1|    4.18|             Brenda|           Sanchez|        null|             null|2022-10-02|\n",
      "|  4|       null|    null|   0|23199.16|               Dawn|              Hill|        null|             null|2022-10-03|\n",
      "|  6|       null|    null|   0|84143.57|            Jeffrey|          Gonzales|        null|             null|2022-10-04|\n",
      "|  7|       null|      17|null|  711.35|             Thomas|            Oliver|        null|             null|2022-10-05|\n",
      "| 10|       null|      20|null|    67.4|            William|             Reyes|        null|             null|2022-10-04|\n",
      "| 11|       null|       2|null| 4516.14|             Jeremy|             Moody|        null|             null|2022-10-03|\n",
      "| 12|         12|    null|null|   37.96|           Patricia|          Williams|  1624390971|Port Benjaminfurt|2022-10-03|\n",
      "| 17|         17|    null|null|65981.69|          Stephanie|            Chavez|  9952997214|    Michelleburgh|2022-10-02|\n",
      "| 18|         18|    null|null|  654.36|             Denise|          Anderson|  5718166161|      Melissafurt|2022-10-03|\n",
      "| 19|       null|    null|   0|    7.75|              Sarah|             Craig|        null|             null|2022-10-04|\n",
      "| 23|       null|      18|null|   24.07|             Brandi|             Ortiz|        null|             null|2022-10-03|\n",
      "| 28|       null|      13|null|   73.06|            Anthony|            Harper|        null|             null|2022-10-03|\n",
      "| 33|         33|    null|null| 2917.29|               John|             Burns|  8671875822|Port Benjaminfurt|2022-10-03|\n",
      "| 41|         41|    null|null|   81.96|           Veronica|          Williams|  4852270998|         Lanefurt|2022-10-02|\n",
      "| 43|         43|    null|null|   91.78|            Zachary|            Ramsey|  6457314142|        Hicksview|2022-10-05|\n",
      "| 45|       null|      17|null|  654.54|             Joshua|           Johnson|        null|             null|2022-10-02|\n",
      "| 46|       null|    null|   0|  574.71|              Sarah|             Jones|        null|             null|2022-10-04|\n",
      "| 47|       null|    null|   0|  483.24|              Peter|              Mack|        null|             null|2022-10-04|\n",
      "| 54|         54|    null|null|   79.18|            Michael|           Johnson|  8947261122|    Port Loriview|2022-10-03|\n",
      "| 57|       null|       9|null| 9925.79|            Matthew|             Scott|        null|             null|2022-10-04|\n",
      "+---+-----------+--------+----+--------+-------------------+------------------+------------+-----------------+----------+\n",
      "only showing top 20 rows\n",
      "\n"
     ]
    }
   ],
   "source": [
    "unified_model.show()"
   ]
  },
  {
   "cell_type": "markdown",
   "metadata": {},
   "source": [
    "# Count and sum amount transactions for each type for day - online"
   ]
  },
  {
   "cell_type": "code",
   "execution_count": 726,
   "metadata": {},
   "outputs": [
    {
     "name": "stdout",
     "output_type": "stream",
     "text": [
      "+----+----------+------------------+------------------+\n",
      "|type| timestamp|total_transactions|             total|\n",
      "+----+----------+------------------+------------------+\n",
      "|   1|2022-10-02|                10|171386.61967229843|\n",
      "|   1|2022-10-03|                10| 69591.97856712341|\n",
      "|   1|2022-10-04|                17| 80872.64190080762|\n",
      "|   1|2022-10-05|                 9|185163.73170089722|\n",
      "+----+----------+------------------+------------------+\n",
      "\n"
     ]
    }
   ],
   "source": [
    "online = unified_model.select('type', 'timestamp', 'amount')\n",
    "online = online.filter(online.type == 1).groupBy(online.type, online.timestamp).agg(sqlf.count('*').alias('total_transactions'), sqlf.sum('amount').alias('total'))\n",
    "online.sort('timestamp').show()"
   ]
  },
  {
   "cell_type": "markdown",
   "metadata": {},
   "source": [
    "# Count and sum amount transactions for each type for day - offline"
   ]
  },
  {
   "cell_type": "code",
   "execution_count": 725,
   "metadata": {},
   "outputs": [
    {
     "name": "stdout",
     "output_type": "stream",
     "text": [
      "+----+----------+------------------+------------------+\n",
      "|type| timestamp|total_transactions|             total|\n",
      "+----+----------+------------------+------------------+\n",
      "|   0|2022-10-02|                 6|1485.7499787807465|\n",
      "|   0|2022-10-03|                16|179331.11799812317|\n",
      "|   0|2022-10-04|                25|231126.67954114825|\n",
      "|   0|2022-10-05|                 7| 4441.390130549669|\n",
      "+----+----------+------------------+------------------+\n",
      "\n"
     ]
    }
   ],
   "source": [
    "offline = unified_model.select('type', 'timestamp', 'amount')\n",
    "offline = offline.filter(offline.type == 0).groupBy(offline.type, offline.timestamp).agg(sqlf.count('*').alias('total_transactions'), sqlf.sum('amount').alias('total'))\n",
    "offline.sort('timestamp').show()"
   ]
  },
  {
   "cell_type": "markdown",
   "metadata": {},
   "source": [
    "# Count and sum transaction for each store for day"
   ]
  },
  {
   "cell_type": "code",
   "execution_count": 724,
   "metadata": {},
   "outputs": [
    {
     "name": "stdout",
     "output_type": "stream",
     "text": [
      "+--------+----------+-----+------------------+\n",
      "|store_id| timestamp|count|             total|\n",
      "+--------+----------+-----+------------------+\n",
      "|    null|2022-10-02|   29| 425310.2145335674|\n",
      "|      18|2022-10-02|    2| 782.8299789428711|\n",
      "|      12|2022-10-02|    1|  98.4000015258789|\n",
      "|       8|2022-10-02|    1|  68.2699966430664|\n",
      "|       3|2022-10-02|    1|     66788.5703125|\n",
      "|       5|2022-10-02|    1|  1369.56005859375|\n",
      "|      17|2022-10-02|    3| 718.2699794769287|\n",
      "|      10|2022-10-02|    1| 435.4100036621094|\n",
      "|      20|2022-10-02|    1| 58.08000183105469|\n",
      "|       7|2022-10-02|    1| 1110.449951171875|\n",
      "|      14|2022-10-02|    2| 831.7099990844727|\n",
      "|       6|2022-10-02|    2| 9549.819726467133|\n",
      "|    null|2022-10-03|   63| 613245.9728010893|\n",
      "|      18|2022-10-03|    3| 7946.419731140137|\n",
      "|       9|2022-10-03|    2| 10383.47998046875|\n",
      "|      12|2022-10-03|    4| 90181.04906272888|\n",
      "|       8|2022-10-03|    3|183019.29092407227|\n",
      "|       1|2022-10-03|    4| 84645.54937458038|\n",
      "|       3|2022-10-03|    1|  94.0999984741211|\n",
      "|       5|2022-10-03|    1| 154.8699951171875|\n",
      "+--------+----------+-----+------------------+\n",
      "only showing top 20 rows\n",
      "\n"
     ]
    }
   ],
   "source": [
    "store_metrics  = unified_model.groupBy(unified_model.store_id, unified_model.timestamp).agg(sqlf.count(unified_model.timestamp).alias('count'), sqlf.sum(unified_model.amount).alias('total'))\n",
    "store_metrics.sort('timestamp').show()"
   ]
  },
  {
   "cell_type": "markdown",
   "metadata": {},
   "source": [
    "# Count and sum amount transactions for each city for day"
   ]
  },
  {
   "cell_type": "code",
   "execution_count": 731,
   "metadata": {},
   "outputs": [
    {
     "name": "stdout",
     "output_type": "stream",
     "text": [
      "+-----------------+----------+-----+------------------+\n",
      "|          address| timestamp|count|             total|\n",
      "+-----------------+----------+-----+------------------+\n",
      "|        Erikville|2022-10-02|    1|    8222.150390625|\n",
      "|             null|2022-10-02|   32|254683.73966097832|\n",
      "|     Brownchester|2022-10-02|    1|382.70001220703125|\n",
      "|        Smithberg|2022-10-02|    1| 6.599999904632568|\n",
      "|       Robertland|2022-10-02|    1|       49262.71875|\n",
      "|Port Benjaminfurt|2022-10-02|    1|    65182.94921875|\n",
      "|         Lanefurt|2022-10-02|    2|            197.25|\n",
      "|       Grahamstad|2022-10-02|    1|    52058.44921875|\n",
      "|         Clayview|2022-10-02|    1|  8151.77978515625|\n",
      "|       Averymouth|2022-10-02|    2| 2983.210006713867|\n",
      "|    Michelleburgh|2022-10-02|    2| 65990.03750038147|\n",
      "|        Hicksview|2022-10-03|    2|  4112.47998046875|\n",
      "|             null|2022-10-03|   53| 716727.3829708099|\n",
      "|     Edwardsburgh|2022-10-03|    1|  9.40999984741211|\n",
      "|      Melissafurt|2022-10-03|    5|  54707.2892036438|\n",
      "|        Erikville|2022-10-03|    3|16104.099482536316|\n",
      "|       Grahamstad|2022-10-03|    1|0.6299999952316284|\n",
      "|         Lanefurt|2022-10-03|    1| 757.1300048828125|\n",
      "|         Clayview|2022-10-03|    2| 86.92000198364258|\n",
      "|      Lake Karina|2022-10-03|    3|19241.859909057617|\n",
      "|     Brownchester|2022-10-03|    2|  634.739990234375|\n",
      "|Port Benjaminfurt|2022-10-03|    3| 75357.25785064697|\n",
      "|New Marthaborough|2022-10-03|    1|27.510000228881836|\n",
      "|        Smithberg|2022-10-03|    2|  66015.8916015625|\n",
      "|       Robertland|2022-10-03|    2|    19467.05078125|\n",
      "|    Port Loriview|2022-10-03|    1| 79.18000030517578|\n",
      "|     West Nichole|2022-10-03|    4| 61547.32928466797|\n",
      "|      Veronicaton|2022-10-03|    4| 46174.09814453125|\n",
      "|  Lake Jamesville|2022-10-04|    1|  2626.56005859375|\n",
      "|        Smithberg|2022-10-04|    3| 8.729999959468842|\n",
      "|Port Benjaminfurt|2022-10-04|    2| 16567.86962890625|\n",
      "|       Averymouth|2022-10-04|    3|  16624.2197265625|\n",
      "|New Marthaborough|2022-10-04|    1| 425.2799987792969|\n",
      "|      Veronicaton|2022-10-04|    2| 59.49000072479248|\n",
      "|         Allenton|2022-10-04|    2| 7872.330116271973|\n",
      "|         Clayview|2022-10-04|    2|3527.7000122070312|\n",
      "|       Robertland|2022-10-04|    1|   7341.8701171875|\n",
      "|      Lake Karina|2022-10-04|    4|140715.79671478271|\n",
      "|     Brownchester|2022-10-04|    2| 19.72000026702881|\n",
      "|    Port Loriview|2022-10-04|    1| 73.33000183105469|\n",
      "|     West Nichole|2022-10-04|    1|    56969.12890625|\n",
      "|        Erikville|2022-10-04|    1| 6.329999923706055|\n",
      "|       Grahamstad|2022-10-04|    1| 71.47000122070312|\n",
      "|             null|2022-10-04|   82| 908732.3669177517|\n",
      "|    Michelleburgh|2022-10-04|    2|53306.920471191406|\n",
      "|      Melissafurt|2022-10-04|    1|     22232.9296875|\n",
      "|         Lanefurt|2022-10-04|    2|    28880.05078125|\n",
      "|             null|2022-10-05|   33|  325503.684027642|\n",
      "|     Edwardsburgh|2022-10-05|    1| 613.1500244140625|\n",
      "|       Averymouth|2022-10-05|    1| 207.1300048828125|\n",
      "|New Marthaborough|2022-10-05|    1|    35858.26953125|\n",
      "|      Veronicaton|2022-10-05|    1|            375.75|\n",
      "|        Smithberg|2022-10-05|    1| 566.0599975585938|\n",
      "|         Allenton|2022-10-05|    1|     9997.73046875|\n",
      "|        Hicksview|2022-10-05|    1| 91.77999877929688|\n",
      "|  Lake Jamesville|2022-10-05|    1| 583.0599975585938|\n",
      "|Port Benjaminfurt|2022-10-05|    3| 81730.82953119278|\n",
      "|         Clayview|2022-10-05|    1|  4171.10986328125|\n",
      "|    Port Loriview|2022-10-05|    1|   27460.400390625|\n",
      "|     West Nichole|2022-10-05|    1| 9.289999961853027|\n",
      "|     Brownchester|2022-10-05|    2| 49035.09078979492|\n",
      "|        Erikville|2022-10-05|    2| 136.1299991607666|\n",
      "+-----------------+----------+-----+------------------+\n",
      "\n"
     ]
    }
   ],
   "source": [
    "cities_transactions = unified_model.groupBy(unified_model.address, unified_model.timestamp).agg(sqlf.count('*').alias('count'), sqlf.sum(unified_model.amount).alias('total'))\n",
    "cities_transactions.sort('timestamp').show()"
   ]
  },
  {
   "cell_type": "markdown",
   "metadata": {},
   "source": [
    "# BACKFILLING ALL THE NULL VALUES FROM THE COLUMNS"
   ]
  },
  {
   "cell_type": "code",
   "execution_count": 558,
   "metadata": {},
   "outputs": [
    {
     "name": "stderr",
     "output_type": "stream",
     "text": [
      "[Stage 6079:>                                                       (0 + 1) / 1]\r"
     ]
    },
    {
     "name": "stdout",
     "output_type": "stream",
     "text": [
      "+---+-------------+----------+------+------------+-------------------+------------------+--------------+-----------------+-------------------+\n",
      "| id|f_customer_id|f_store_id|f_type|float_amount|customer_first_name|customer_last_name|f_phone_number|        f_address|          timestamp|\n",
      "+---+-------------+----------+------+------------+-------------------+------------------+--------------+-----------------+-------------------+\n",
      "|  2|          815|         6|     1|        4.18|             Brenda|           Sanchez|    7904112847|       Grahamstad|2022-10-02T19:27:13|\n",
      "|  4|          791|        13|     0|    23199.16|               Dawn|              Hill|    8456415789|New Marthaborough|2022-10-03T02:55:52|\n",
      "|  6|          147|        19|     0|    84143.57|            Jeffrey|          Gonzales|    5167666735|Port Benjaminfurt|2022-10-04T01:20:01|\n",
      "|  7|          101|        17|     1|      711.35|             Thomas|            Oliver|    3303626529|Port Benjaminfurt|2022-10-05T10:52:27|\n",
      "| 10|          137|        20|     1|        67.4|            William|             Reyes|    7888112224|      Veronicaton|2022-10-04T10:15:45|\n",
      "| 11|           99|         2|     1|     4516.14|             Jeremy|             Moody|    6933102669|     Brownchester|2022-10-03T13:18:38|\n",
      "| 12|           12|         5|     0|       37.96|           Patricia|          Williams|    1624390971|Port Benjaminfurt|2022-10-03 02:41:43|\n",
      "| 17|           17|        19|     0|    65981.69|          Stephanie|            Chavez|    9952997214|    Michelleburgh|2022-10-02 15:00:14|\n",
      "| 18|           18|        10|     1|      654.36|             Denise|          Anderson|    5718166161|      Melissafurt|2022-10-03 12:56:18|\n",
      "| 19|          435|        11|     1|        2.12|             Dustin|           Hancock|    9337352167|       Robertland|2022-10-03T16:55:46|\n",
      "| 19|          664|         9|     0|        7.75|              Sarah|             Craig|    3793263846|    Port Loriview|2022-10-04T19:55:02|\n",
      "| 23|          722|        18|     1|       24.07|             Brandi|             Ortiz|    7289421397|     West Nichole|2022-10-03T16:48:06|\n",
      "| 25|          585|         8|     1|     4462.03|              Erika|             Green|    3943498821|    Michelleburgh|2022-10-03T15:37:49|\n",
      "| 28|           67|        13|     1|       73.06|            Anthony|            Harper|    1307088216|       Grahamstad|2022-10-03T14:18:29|\n",
      "| 33|           33|        12|     1|     2917.29|               John|             Burns|    8671875822|Port Benjaminfurt|2022-10-03 05:58:39|\n",
      "| 40|          744|        18|     1|        1.88|             Hayley|            Herman|    1450976110|Port Benjaminfurt|2022-10-03T07:06:27|\n",
      "| 41|          370|        10|     1|     2210.49|             Meghan|             Davis|    7902123475|  Lake Jamesville|2022-10-02T16:42:22|\n",
      "| 41|           41|        14|     0|       81.96|           Veronica|          Williams|    4852270998|         Lanefurt|2022-10-02 19:11:14|\n",
      "| 43|           43|         6|     0|       91.78|            Zachary|            Ramsey|    6457314142|        Hicksview|2022-10-05 05:53:04|\n",
      "| 45|          569|        17|     0|      654.54|             Joshua|           Johnson|    2750643843|  Lake Jamesville|2022-10-02T15:59:26|\n",
      "+---+-------------+----------+------+------------+-------------------+------------------+--------------+-----------------+-------------------+\n",
      "only showing top 20 rows\n",
      "\n"
     ]
    },
    {
     "name": "stderr",
     "output_type": "stream",
     "text": [
      "                                                                                \r"
     ]
    }
   ],
   "source": [
    "from faker import Faker\n",
    "import random\n",
    "\n",
    "def backfillType(x) -> int:\n",
    "    if x is None:\n",
    "        return random.randint(0,1)\n",
    "    else:\n",
    "        return x    \n",
    "\n",
    "def backfillStoreID(x) -> int:\n",
    "    if x is None:\n",
    "        return random.randint(1,20)\n",
    "    else:\n",
    "        return x\n",
    "\n",
    "def backfillPhoneNumber(x) -> int:\n",
    "    fake = Faker()\n",
    "    if x is None:\n",
    "        return fake.msisdn()[3:]\n",
    "    else:\n",
    "        return x\n",
    "\n",
    "def backfillAddress(x) -> str:\n",
    "    if x is None:\n",
    "        return random.choice(['Allenton', 'Hicksview', 'Smithberg', 'Robertland', 'Veronicaton', 'Lake Jamesville', 'Port Benjaminfurt', 'Averymouth', 'Erikville', 'Port Loriview', 'Grahamstad', 'Edwardsburgh', 'New Marthaborough', 'Melissafurt', 'Lanefurt', 'Clayview', 'West Nichole', 'Brownchester', 'Lake Karina', 'Michelleburgh'])\n",
    "    else:\n",
    "        return x\n",
    "\n",
    "def backfillCustomerID(x) -> int:\n",
    "    if x is None:\n",
    "        return random.randint(1, 900)\n",
    "    else:\n",
    "        return x\n",
    "\n",
    "backfillType_udf = sqlf.udf(lambda x : backfillType(x), LongType())\n",
    "backfillStoreId_udf = sqlf.udf(lambda x : backfillStoreID(x), IntegerType())\n",
    "backfillPhoneNumber_udf = sqlf.udf(lambda x: backfillPhoneNumber(x), StringType())\n",
    "backfillAddress_udf = sqlf.udf(lambda x: backfillAddress(x), StringType())\n",
    "backfillCustomerID_udf = sqlf.udf(lambda x: backfillCustomerID(x), LongType())\n",
    "\n",
    "backfilledDF = unified_model\n",
    "backfilledDF.repartition(2)\n",
    "\n",
    "backfilledDF = backfilledDF.withColumn('f_type', backfillType_udf(unified_model.type))\n",
    "backfilledDF = backfilledDF.withColumn('f_store_id', backfillStoreId_udf(backfilledDF.store_id))\n",
    "backfilledDF = backfilledDF.withColumn('f_phone_number', backfillPhoneNumber_udf(backfilledDF.phone_number))\n",
    "backfilledDF = backfilledDF.withColumn('f_address', backfillAddress_udf(backfilledDF.address))\n",
    "backfilledDF = backfilledDF.withColumn('f_customer_id', backfillCustomerID_udf(backfilledDF.customer_id))\n",
    "backfilledDF = backfilledDF.select('id', 'f_customer_id', 'f_store_id', 'f_type', 'float_amount', 'customer_first_name', 'customer_last_name', 'f_phone_number', 'f_address', 'timestamp')\n",
    "# backfilledDF.show()"
   ]
  },
  {
   "cell_type": "code",
   "execution_count": 677,
   "metadata": {},
   "outputs": [
    {
     "name": "stdout",
     "output_type": "stream",
     "text": [
      "2022-10-03\n"
     ]
    }
   ],
   "source": [
    "x = '2022-10-03 12:56:18'\n",
    "x = x.split(' ')\n",
    "print(x[0])"
   ]
  },
  {
   "cell_type": "code",
   "execution_count": null,
   "metadata": {},
   "outputs": [],
   "source": []
  }
 ],
 "metadata": {
  "kernelspec": {
   "display_name": "Python 3.10.4 ('CapstoneENV')",
   "language": "python",
   "name": "python3"
  },
  "language_info": {
   "codemirror_mode": {
    "name": "ipython",
    "version": 3
   },
   "file_extension": ".py",
   "mimetype": "text/x-python",
   "name": "python",
   "nbconvert_exporter": "python",
   "pygments_lexer": "ipython3",
   "version": "3.10.4"
  },
  "orig_nbformat": 4,
  "vscode": {
   "interpreter": {
    "hash": "874b0dd84e8b98467c3d8042fd47d9e77e6c7558a12d29c4392edcac270f293e"
   }
  }
 },
 "nbformat": 4,
 "nbformat_minor": 2
}
