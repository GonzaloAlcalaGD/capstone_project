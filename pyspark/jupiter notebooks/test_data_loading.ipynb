{
 "cells": [
  {
   "cell_type": "code",
   "execution_count": 260,
   "metadata": {},
   "outputs": [],
   "source": [
    "from pyspark.sql import SparkSession\n",
    "from pyspark import SparkContext, SparkConf\n",
    "from pyspark.sql import functions as sqlf \n",
    "#col, lit, udf,sum,avg,max,min,mean,count, udf \n",
    "from pyspark.sql.types import StructType, StructField, StringType, IntegerType, FloatType, DoubleType, LongType"
   ]
  },
  {
   "cell_type": "code",
   "execution_count": 261,
   "metadata": {},
   "outputs": [],
   "source": [
    "spark = SparkSession.builder.appName('Stage - Ingest').getOrCreate()\n",
    "conf = SparkConf().setAppName('Stage - Ingest')\n",
    "sc = SparkContext.getOrCreate(conf=conf)"
   ]
  },
  {
   "cell_type": "code",
   "execution_count": 262,
   "metadata": {},
   "outputs": [],
   "source": [
    "import json\n",
    "import logging\n",
    "from pandas import DataFrame\n",
    "import os\n",
    "import pendulum\n",
    "from datetime import datetime\n",
    "\n",
    "def get_subdirectories(path: str) -> list:\n",
    "    \"\"\"\n",
    "    Function that searchs for sub-directories inside a directory \n",
    "    then returns a list of all the directories names.\n",
    "    \"\"\"\n",
    "    if path.split('/')[7] in ['customer', 'transaction']:\n",
    "        subdirectories = [f.path for f in os.scandir(path) if f.is_dir()]\n",
    "        subdirectories = [x.split('/')[8] for x in subdirectories]\n",
    "        csv_directories = [directory.split('_')[1] for directory in subdirectories]\n",
    "        return csv_directories\n",
    "    else:\n",
    "        subdirectories = [f.path for f in os.scandir(path) if f.is_dir()]\n",
    "        subdirectories = [x.split('/')[7] for x in subdirectories]\n",
    "        return [datetime.strptime(directory, '%Y-%m-%d').date() for directory in subdirectories] \n",
    "        \n",
    "\n",
    "def get_latest_folder(folders: list) -> str:\n",
    "    \"\"\"\n",
    "    Returns the latest date from the list.\n",
    "    \"\"\"\n",
    "    try:\n",
    "        return str(max(folders))\n",
    "    except:\n",
    "        return logging.critical('Couldn\\'t find any sub-directory.')\n",
    "\n",
    "\n",
    "def loadJsonData(json_path: str) -> DataFrame:\n",
    "    \"\"\"\n",
    "    Function that returns a dataframe from a valid directory that contains jsonlines files.\n",
    "    \"\"\"\n",
    "    latest = get_latest_folder(get_subdirectories(json_path))\n",
    "    if os.path.exists(os.path.dirname(os.path.join(json_path, latest))):\n",
    "        df = spark.read.json(os.path.join(json_path, latest))\n",
    "        return df\n",
    "    else:\n",
    "        return logging.critical('Path to jsonl files doesn\\'t exist')\n",
    "\n",
    "\n",
    "def loadParquetData(parquet_path: str) -> DataFrame:\n",
    "    \"\"\"\n",
    "    Function that returns a dataframe from a valid directory that contains parquet files.\n",
    "    \"\"\"\n",
    "    latest = get_latest_folder(get_subdirectories(parquet_path))\n",
    "    if os.path.exists(os.path.dirname(parquet_path)):\n",
    "        df = spark.read.option('recursiveFileLookup', 'true').option('header', 'true').parquet(parquet_path)\n",
    "        return df\n",
    "    else:\n",
    "        return logging.critical('Path to parquet file deosn\\'t exist')\n",
    "\n",
    "\n",
    "def loadCSVData(csv_path: str) -> DataFrame:\n",
    "    \"\"\"\n",
    "    Function that returns a dataframe from a valid directory that contains csv files.\n",
    "    \"\"\"\n",
    "    latest = get_latest_folder(get_subdirectories(csv_path))\n",
    "    if os.path.exists(os.path.dirname(csv_path)):\n",
    "        df = spark.read.option('recursiveFileLookup', 'true').option('header', 'true').csv(csv_path)\n",
    "        return df\n",
    "    else:\n",
    "        return logging.critical('Path to csv file doesn\\'t exist')"
   ]
  },
  {
   "cell_type": "code",
   "execution_count": 314,
   "metadata": {},
   "outputs": [
    {
     "data": {
      "text/plain": [
       "2"
      ]
     },
     "execution_count": 314,
     "metadata": {},
     "output_type": "execute_result"
    }
   ],
   "source": [
    "# Ingesting jsonlines data\n",
    "df = loadJsonData(json_path='/Users/gonzo/Desktop/capstone_project/data_storage/json_storage/')\n",
    "df = df.select('id', 'ts', 'customer_first_name', 'customer_last_name', 'amount', 'type')\n",
    "# df.select(['id']).distinct().count()\n",
    "df = df.repartition(2)\n",
    "df.rdd.getNumPartitions()\n",
    "# df.show()"
   ]
  },
  {
   "cell_type": "code",
   "execution_count": 315,
   "metadata": {},
   "outputs": [
    {
     "data": {
      "text/plain": [
       "2"
      ]
     },
     "execution_count": 315,
     "metadata": {},
     "output_type": "execute_result"
    }
   ],
   "source": [
    "# Ingesting parquet data\n",
    "df2 = loadParquetData(parquet_path='/Users/gonzo/Desktop/capstone_project/data_storage/parquet_storage/')\n",
    "df2 = df2.repartition(2)\n",
    "df2.rdd.getNumPartitions()"
   ]
  },
  {
   "cell_type": "code",
   "execution_count": 316,
   "metadata": {},
   "outputs": [
    {
     "data": {
      "text/plain": [
       "2"
      ]
     },
     "execution_count": 316,
     "metadata": {},
     "output_type": "execute_result"
    }
   ],
   "source": [
    "# Ingesting RDBMS (PostgreSQL) data\n",
    "df3 = loadCSVData(csv_path='/Users/gonzo/Desktop/capstone_project/data_storage/pgdata/customer/')\n",
    "df3 = df3.repartition(2)\n",
    "df3.rdd.getNumPartitions()"
   ]
  },
  {
   "cell_type": "code",
   "execution_count": 317,
   "metadata": {},
   "outputs": [
    {
     "data": {
      "text/plain": [
       "2"
      ]
     },
     "execution_count": 317,
     "metadata": {},
     "output_type": "execute_result"
    }
   ],
   "source": [
    "# Ingesting RDBMS (PostgreSQL) data\n",
    "df4 = loadCSVData(csv_path='/Users/gonzo/Desktop/capstone_project/data_storage/pgdata/transaction/')\n",
    "df4 = df4.repartition(2)\n",
    "df4.rdd.getNumPartitions()"
   ]
  },
  {
   "cell_type": "code",
   "execution_count": 300,
   "metadata": {},
   "outputs": [
    {
     "name": "stdout",
     "output_type": "stream",
     "text": [
      "root\n",
      " |-- id: long (nullable = true)\n",
      " |-- ts: string (nullable = true)\n",
      " |-- customer_first_name: string (nullable = true)\n",
      " |-- customer_last_name: string (nullable = true)\n",
      " |-- amount: string (nullable = true)\n",
      " |-- type: long (nullable = true)\n",
      "\n"
     ]
    }
   ],
   "source": [
    "df.printSchema()"
   ]
  },
  {
   "cell_type": "code",
   "execution_count": 301,
   "metadata": {},
   "outputs": [
    {
     "name": "stdout",
     "output_type": "stream",
     "text": [
      "root\n",
      " |-- Id: long (nullable = true)\n",
      " |-- First_name: string (nullable = true)\n",
      " |-- Last_name: string (nullable = true)\n",
      " |-- Amount: string (nullable = true)\n",
      " |-- timestamp: string (nullable = true)\n",
      " |-- Store_id: long (nullable = true)\n",
      "\n"
     ]
    }
   ],
   "source": [
    "df2.printSchema()"
   ]
  },
  {
   "cell_type": "code",
   "execution_count": 302,
   "metadata": {},
   "outputs": [
    {
     "name": "stdout",
     "output_type": "stream",
     "text": [
      "root\n",
      " |-- id: string (nullable = true)\n",
      " |-- first_name: string (nullable = true)\n",
      " |-- last_name: string (nullable = true)\n",
      " |-- phone_number: string (nullable = true)\n",
      " |-- address: string (nullable = true)\n",
      "\n"
     ]
    }
   ],
   "source": [
    "df3.printSchema()"
   ]
  },
  {
   "cell_type": "code",
   "execution_count": 303,
   "metadata": {},
   "outputs": [
    {
     "name": "stdout",
     "output_type": "stream",
     "text": [
      "root\n",
      " |-- id: string (nullable = true)\n",
      " |-- customer_id: string (nullable = true)\n",
      " |-- transaction_ts: string (nullable = true)\n",
      " |-- amount: string (nullable = true)\n",
      "\n"
     ]
    }
   ],
   "source": [
    "df4.printSchema()"
   ]
  },
  {
   "cell_type": "code",
   "execution_count": 304,
   "metadata": {},
   "outputs": [
    {
     "name": "stdout",
     "output_type": "stream",
     "text": [
      "+---+-------------------+------------------+----------+-------------------+--------+\n",
      "| Id|customer_first_name|customer_last_name|    amount|          timestamp|Store_id|\n",
      "+---+-------------------+------------------+----------+-------------------+--------+\n",
      "|256|              Blake|             Scott|     $3.48|2022-10-03T09:58:52|       4|\n",
      "|283|             Andrew|           Russell|     $7.59|2022-10-02T07:21:14|      11|\n",
      "|231|             Andrew|            Cooper|$11,380.13|2022-10-02T23:09:56|      10|\n",
      "|799|           Kimberly|              Lara| $7,642.31|2022-10-03T07:26:19|      20|\n",
      "|694|              Shane|             Allen|     $5.53|2022-10-04T07:26:22|       2|\n",
      "|107|            Michael|          Thompson|    $11.94|2022-10-02T23:37:12|      17|\n",
      "| 25|              Erika|             Green| $4,462.03|2022-10-03T15:37:49|       8|\n",
      "|374|            Michael|             Clark|    $98.63|2022-10-02T12:34:23|      14|\n",
      "|268|             Pamela|          Copeland|   $549.70|2022-10-02T08:26:43|       3|\n",
      "|664|               John|             Lewis|    $87.56|2022-10-02T01:35:52|       8|\n",
      "| 73|              Kevin|           Edwards| $5,917.84|2022-10-05T06:20:34|       4|\n",
      "|441|               Tony|            Howard| $9,543.97|2022-10-02T19:36:09|       6|\n",
      "|422|              Louis|           Schmidt|     $9.17|2022-10-04T21:58:40|      14|\n",
      "|813|            Melissa|           Fleming| $5,565.08|2022-10-03T07:32:24|       9|\n",
      "| 23|             Brandi|             Ortiz|    $24.07|2022-10-03T16:48:06|      18|\n",
      "|272|             Howard|        Fitzgerald| $8,276.20|2022-10-04T10:20:24|       5|\n",
      "|608|               Jill|            Kramer|   $333.27|2022-10-05T00:56:59|      12|\n",
      "|336|        Christopher|              Diaz|   $154.87|2022-10-03T17:10:28|       5|\n",
      "|656|              Scott|            Torres|     $2.87|2022-10-03T11:26:34|       1|\n",
      "|809|             Trevor|             Cross|    $66.91|2022-10-04T15:11:53|      12|\n",
      "+---+-------------------+------------------+----------+-------------------+--------+\n",
      "only showing top 20 rows\n",
      "\n"
     ]
    }
   ],
   "source": [
    "df2 = df2.withColumnRenamed('First_name', 'customer_first_name')\n",
    "df2 = df2.withColumnRenamed('Last_name', 'customer_last_name')\n",
    "df2 = df2.withColumnRenamed('Amount', 'amount')\n",
    "df = df.withColumnRenamed('ts', 'timestamp')\n",
    "df = df.withColumnRenamed('Store_id', 'store_id')\n",
    "df2.show()"
   ]
  },
  {
   "cell_type": "code",
   "execution_count": 305,
   "metadata": {},
   "outputs": [
    {
     "name": "stdout",
     "output_type": "stream",
     "text": [
      "+---+----+--------+----------+-------------------+------------------+-------------------+\n",
      "| id|type|store_id|    amount|customer_first_name|customer_last_name|          timestamp|\n",
      "+---+----+--------+----------+-------------------+------------------+-------------------+\n",
      "|  2|   1|    null|     $4.18|             Brenda|           Sanchez|2022-10-02T19:27:13|\n",
      "|  4|   0|    null|$23,199.16|               Dawn|              Hill|2022-10-03T02:55:52|\n",
      "|  6|   0|    null|$84,143.57|            Jeffrey|          Gonzales|2022-10-04T01:20:01|\n",
      "|  7|null|      17|   $711.35|             Thomas|            Oliver|2022-10-05T10:52:27|\n",
      "| 10|null|      20|    $67.40|            William|             Reyes|2022-10-04T10:15:45|\n",
      "| 11|null|       2| $4,516.14|             Jeremy|             Moody|2022-10-03T13:18:38|\n",
      "| 19|null|      11|     $2.12|             Dustin|           Hancock|2022-10-03T16:55:46|\n",
      "| 19|   0|    null|     $7.75|              Sarah|             Craig|2022-10-04T19:55:02|\n",
      "| 23|null|      18|    $24.07|             Brandi|             Ortiz|2022-10-03T16:48:06|\n",
      "| 25|null|       8| $4,462.03|              Erika|             Green|2022-10-03T15:37:49|\n",
      "| 28|null|      13|    $73.06|            Anthony|            Harper|2022-10-03T14:18:29|\n",
      "| 40|null|      18|     $1.88|             Hayley|            Herman|2022-10-03T07:06:27|\n",
      "| 41|null|      10| $2,210.49|             Meghan|             Davis|2022-10-02T16:42:22|\n",
      "| 45|null|      17|   $654.54|             Joshua|           Johnson|2022-10-02T15:59:26|\n",
      "| 46|   0|    null|   $574.71|              Sarah|             Jones|2022-10-04T10:59:18|\n",
      "| 47|   0|    null|   $483.24|              Peter|              Mack|2022-10-04T18:57:20|\n",
      "| 48|null|      11|     $3.93|              Louis|             Boyer|2022-10-01T23:27:45|\n",
      "| 57|null|       9| $9,925.79|            Matthew|             Scott|2022-10-04T03:25:29|\n",
      "| 65|   1|    null|   $706.25|           Kathleen|             Smith|2022-10-04T03:05:55|\n",
      "| 65|null|       5| $6,976.82|             Steven|           Vincent|2022-10-02T13:27:20|\n",
      "+---+----+--------+----------+-------------------+------------------+-------------------+\n",
      "only showing top 20 rows\n",
      "\n"
     ]
    }
   ],
   "source": [
    "# Parquet & Json\n",
    "json_parquetDF = df.join(df2, ['id', 'customer_first_name', 'customer_last_name', 'timestamp', 'amount'], \"fullouter\")\n",
    "json_parquetDF = json_parquetDF.select('id', 'type', 'store_id', 'amount', 'customer_first_name', 'customer_last_name', 'timestamp')\n",
    "json_parquetDF.show()"
   ]
  },
  {
   "cell_type": "code",
   "execution_count": 306,
   "metadata": {},
   "outputs": [
    {
     "name": "stdout",
     "output_type": "stream",
     "text": [
      "+---+-----------+----------+-----------+----------+------------+-----------------+-------------------+\n",
      "| id|customer_id|    amount| first_name| last_name|phone_number|          address|     transaction_ts|\n",
      "+---+-----------+----------+-----------+----------+------------+-----------------+-------------------+\n",
      "| 12|        705|    $37.96|   Patricia|  Williams|  1624390971|Port Benjaminfurt|2022-10-03 02:41:43|\n",
      "|129|        837|    $27.51|    Tiffany|   Farrell|  0174130827|New Marthaborough|2022-10-03 10:40:03|\n",
      "| 17|        530|$65,981.69|  Stephanie|    Chavez|  9952997214|    Michelleburgh|2022-10-02 15:00:14|\n",
      "|170|        689| $4,249.06|     Arthur|    Hester|  9696686678|     West Nichole|2022-10-03 08:34:01|\n",
      "| 18|        363|   $654.36|     Denise|  Anderson|  5718166161|      Melissafurt|2022-10-03 12:56:18|\n",
      "|199|        666|$12,611.06|       Lynn|   Swanson|  1308999765|        Erikville|2022-10-03 20:20:26|\n",
      "|218|        329|   $381.18|   Kimberly|     Baker|  5596293609|         Clayview|2022-10-04 16:49:12|\n",
      "|219|        308|     $8.29|     Justin|    Waters|  2556250708|     Brownchester|2022-10-04 20:44:06|\n",
      "|222|          2|   $382.70|      Jesse|  Williams|  2446792417|     Brownchester|2022-10-02 18:46:05|\n",
      "|226|        310|   $107.21|     Edward|  Galloway|  9966544188|      Melissafurt|2022-10-03 14:23:16|\n",
      "|230|        135|$56,969.13|     Rodney|    Hansen|  8320254682|     West Nichole|2022-10-04 02:20:57|\n",
      "|237|        362| $6,350.88|   Mckenzie|      Dean|  0832472650|        Smithberg|2022-10-03 22:50:00|\n",
      "|240|        571|   $125.38|   Victoria|   Hendrix|  6381835167|      Lake Karina|2022-10-04 08:19:08|\n",
      "|242|        170| $8,151.78|   Kimberly|   Cameron|  6044982568|         Clayview|2022-10-02 14:11:59|\n",
      "|249|        796|$23,476.67|    Tiffany|  Garrison|  2366958709|      Melissafurt|2022-10-03 19:17:45|\n",
      "|276|         99|$13,469.52|  Christine|   Jenkins|  8127765681|Port Benjaminfurt|2022-10-04 20:39:11|\n",
      "|280|        509|$30,407.53|      Haley|   Hawkins|  8642515731|      Melissafurt|2022-10-03 11:34:32|\n",
      "|285|        607|     $6.33|       Adam| Armstrong|  7507613719|        Erikville|2022-10-04 03:13:54|\n",
      "|288|        756| $2,626.56|      Megan|     Weber|  6331206019|  Lake Jamesville|2022-10-04 00:58:10|\n",
      "|299|        387| $3,098.35|      Peter|    Fisher|  4775028457|Port Benjaminfurt|2022-10-04 04:36:48|\n",
      "|308|        295|     $9.41|  Alexander|    Clarke|  1182263360|     Edwardsburgh|2022-10-03 19:56:15|\n",
      "|315|        753|$55,575.70| Jacqueline|   Bennett|  5372596139|     West Nichole|2022-10-03 09:12:15|\n",
      "|325|        851|    $71.47|    Zachary|     Perez|  8603441510|       Grahamstad|2022-10-04 18:12:23|\n",
      "| 33|        191| $2,917.29|       John|     Burns|  8671875822|Port Benjaminfurt|2022-10-03 05:58:39|\n",
      "|337|        286| $8,535.49|    Felicia|     Jones|  1839349418|         Lanefurt|2022-10-04 07:12:48|\n",
      "|341|        442|   $188.14|       Carl|  Stephens|  3822009809|      Lake Karina|2022-10-03 22:45:02|\n",
      "|343|        893|     $9.29|      Susan|     Jones|  6629756527|     West Nichole|2022-10-05 08:36:28|\n",
      "|358|        656|     $6.60|       Adam|    Benson|  5025744946|        Smithberg|2022-10-02 23:59:20|\n",
      "|379|        229|$49,262.72|       Eric|   Stanley|  5302630562|       Robertland|2022-10-02 19:10:03|\n",
      "|383|        389|    $82.44|      Donna|    Rivera|  1444524704|    Michelleburgh|2022-10-04 22:50:10|\n",
      "|398|        678|     $0.67|     Samuel|     Lewis|  0638466687|        Smithberg|2022-10-04 10:25:06|\n",
      "| 41|        840|    $81.96|   Veronica|  Williams|  4852270998|         Lanefurt|2022-10-02 19:11:14|\n",
      "|414|         52|    $50.11|      David|      Barr|  2388757413|      Veronicaton|2022-10-04 16:07:52|\n",
      "|419|        541|   $757.13|Christopher|    Murray|  9982797324|         Lanefurt|2022-10-03 06:07:04|\n",
      "|424|        891|   $734.20|     Robert|   Brennan|  5366474143|     West Nichole|2022-10-03 12:45:04|\n",
      "| 43|        405|    $91.78|    Zachary|    Ramsey|  6457314142|        Hicksview|2022-10-05 05:53:04|\n",
      "|444|        361|     $8.35|     Amanda|    Nelson|  6123614837|    Michelleburgh|2022-10-02 16:33:55|\n",
      "|445|        813| $7,341.87|       Mary|    Fields|  2820740098|       Robertland|2022-10-04 19:23:19|\n",
      "|447|        383|$41,071.09|   Reginald| Mcconnell|  2222850799|      Lake Karina|2022-10-04 21:50:34|\n",
      "|459|        358|   $709.30|       Leah|      Ward|  2449557321|      Lake Karina|2022-10-03 02:52:32|\n",
      "|460|         52| $1,517.44|     Steven|     James|  6944540810|        Hicksview|2022-10-03 03:00:21|\n",
      "|482|        106| $7,042.53|      Carol| Rodriguez|  9808399017|      Veronicaton|2022-10-03 03:48:50|\n",
      "|500|        873|$10,513.60|     Tamara|     Smith|  0923886379|      Veronicaton|2022-10-03 11:52:49|\n",
      "|508|         64| $9,997.73|      Kevin|      Ward|  3866130003|         Allenton|2022-10-05 04:13:04|\n",
      "|524|        601|     $4.16|     Robert|   Bullock|  6224540673|         Clayview|2022-10-03 12:21:37|\n",
      "|526|         35|     $1.21|       Jose|     Perry|  0189161517|        Smithberg|2022-10-04 16:10:51|\n",
      "|528|        881|   $207.13|   Cristian|    Romero|  5197726562|       Averymouth|2022-10-05 00:11:31|\n",
      "|534|         53| $2,796.26|    Bradley|      Cook|  7111430381|       Averymouth|2022-10-02 15:00:16|\n",
      "|539|        480|$52,058.45|     Ashley|  Williams|  2481339010|       Grahamstad|2022-10-02 16:23:42|\n",
      "| 54|        423|    $79.18|    Michael|   Johnson|  8947261122|    Port Loriview|2022-10-03 00:17:35|\n",
      "|544|        594|$65,182.95|    Melissa|  Thompson|  5220792018|Port Benjaminfurt|2022-10-02 14:20:34|\n",
      "|550|        537|     $5.56|    Christy|   Webster|  1708396924|Port Benjaminfurt|2022-10-05 10:47:53|\n",
      "|555|        268|$48,620.80|       Dawn|    Butler|  0389827908|     Brownchester|2022-10-05 05:34:39|\n",
      "|556|        808|     $6.85|      Kelly|     Smith|  3880545614|        Smithberg|2022-10-04 11:57:27|\n",
      "|559|         89|$20,344.56|    Douglas|  Phillips|  0812632263|         Lanefurt|2022-10-04 15:47:47|\n",
      "| 58|        462|   $115.29|       Ryan|    Garcia|  3285654271|         Lanefurt|2022-10-02 20:56:17|\n",
      "| 59|        671| $7,849.37|     Jordan|    Fisher|  6219321808|         Allenton|2022-10-04 01:40:54|\n",
      "|593|        846| $8,504.85|      David|  Thompson|  6354258810|       Averymouth|2022-10-04 16:19:48|\n",
      "|598|        396|$72,402.01|    Michael|     Ortiz|  7164476916|Port Benjaminfurt|2022-10-03 12:02:48|\n",
      "|609|        759|    $41.25|    Cynthia| Hernandez|  1825888381|       Robertland|2022-10-03 22:08:51|\n",
      "|611|        196|   $583.06|       Joel|    Murray|  0407299545|  Lake Jamesville|2022-10-05 07:19:21|\n",
      "|613|        288|   $988.37|      Amber|     Baker|  1010874540|     West Nichole|2022-10-03 21:42:16|\n",
      "|617|        331|    $11.43|      Tammy|     Huang|  0871774292|     Brownchester|2022-10-04 06:41:17|\n",
      "|623|        641|     $6.13|       Adam|     Mejia|  5345726733|        Erikville|2022-10-03 15:05:04|\n",
      "|626|        680|$20,339.45|      Jamie|     Smith|  3296690045|      Veronicaton|2022-10-03 09:06:42|\n",
      "|628|        709|$18,344.42|    Brandon|     Logan|  4074657274|      Lake Karina|2022-10-03 07:12:31|\n",
      "|633|        691|    $82.76|    Rebecca|     White|  8816293027|         Clayview|2022-10-03 14:36:35|\n",
      "|634|        753| $8,806.84|     Sharon|    Garcia|  2640279537|Port Benjaminfurt|2022-10-05 11:36:34|\n",
      "|658|        110|   $186.95|      Kevin|     Scott|  3209615463|       Averymouth|2022-10-02 13:43:54|\n",
      "|666|        617|   $115.50|       Kara|    Wagner|  1169674575|        Erikville|2022-10-05 08:56:02|\n",
      "|668|        876|     $0.63|     Angela|    Becker|  0645754275|       Grahamstad|2022-10-03 05:48:02|\n",
      "|671|        753|   $566.06|    Jessica|     Scott|  4499703128|        Smithberg|2022-10-05 11:43:50|\n",
      "|678|        740|$99,439.55|       John|     Davis|  5598504008|      Lake Karina|2022-10-04 14:40:36|\n",
      "|679|        423|$22,232.93|      Julie|   Gilmore|  2993695570|      Melissafurt|2022-10-04 20:55:32|\n",
      "|688|        488|$35,858.27|    William| Rasmussen|  7734863626|New Marthaborough|2022-10-05 04:40:34|\n",
      "|691|        519|   $417.90|      Jason| Rodriguez|  3327301660|     Brownchester|2022-10-03 21:06:23|\n",
      "|694|        221|   $613.15|      Megan|     Smith|  7740943003|     Edwardsburgh|2022-10-05 05:45:14|\n",
      "|701|        408|$27,460.40|       Todd|    Golden|  4316158441|    Port Loriview|2022-10-05 12:18:57|\n",
      "|705|         87|    $61.52|      Scott|   Vazquez|  7187411263|      Melissafurt|2022-10-03 11:58:10|\n",
      "|734|        291|$53,224.48|     Nicole|   Carroll|  0736462580|    Michelleburgh|2022-10-04 22:42:00|\n",
      "|741|        576| $8,222.15|    Matthew|   Johnson|  0861318748|        Erikville|2022-10-02 12:58:01|\n",
      "|756|        125|$72,918.43|    Heather|Montgomery|  7380781141|Port Benjaminfurt|2022-10-05 06:41:24|\n",
      "|761|        652|   $425.28|Christopher|   Stevens|  9911692402|New Marthaborough|2022-10-04 20:20:26|\n",
      "|778|         39| $8,278.52|    Cynthia|   Johnson|  3253956605|      Veronicaton|2022-10-03 15:09:37|\n",
      "|781|        848|    $20.63|      Jason|   Jenkins|  3604057231|        Erikville|2022-10-05 11:22:41|\n",
      "|788|        736|$19,425.80|     Marcus|   Everett|  7822771630|       Robertland|2022-10-03 13:06:28|\n",
      "|803|        211|   $414.29|       Mary|   Mcmahon|  8765744533|     Brownchester|2022-10-05 05:16:16|\n",
      "|816|        683| $8,078.37|      Julie|    Dorsey|  6583481878|       Averymouth|2022-10-04 22:16:42|\n",
      "|826|        228| $3,486.91|      Tammy|     Simon|  9490955624|        Erikville|2022-10-03 06:28:18|\n",
      "| 83|         13| $4,171.11|    Gregory|  Mcmillan|  6535423571|         Clayview|2022-10-05 00:28:50|\n",
      "|830|        210|    $73.33|      Diane|     Henry|  2108985424|    Port Loriview|2022-10-04 15:19:42|\n",
      "|836|        316|$59,665.01|    Bethany|     Brock|  5737632002|        Smithberg|2022-10-03 01:38:03|\n",
      "|849|        305| $2,595.04|    Yolanda|    Hanson|  2292817824|        Hicksview|2022-10-03 00:04:06|\n",
      "|851|        409|    $41.00|Christopher|    Harvey|  8820598051|       Averymouth|2022-10-04 12:17:51|\n",
      "|854|        404|    $22.96|   Brittany|     Allen|  5632846459|         Allenton|2022-10-04 08:57:35|\n",
      "|866|        371| $3,146.52|      Debra|   Ramirez|  6760142880|         Clayview|2022-10-04 05:43:48|\n",
      "|875|        680|    $79.78|     Manuel|     Owens|  4537434977|      Lake Karina|2022-10-04 21:20:57|\n",
      "|881|        367|   $375.75|     Tamara|  Gonzales|  5134088885|      Veronicaton|2022-10-05 07:22:57|\n",
      "|890|        472|     $9.38|      Jared|Fitzgerald|  7449373848|      Veronicaton|2022-10-04 00:11:07|\n",
      "|893|        699|   $216.84|     Dustin|      Luna|  2815708255|     Brownchester|2022-10-03 17:58:18|\n",
      "+---+-----------+----------+-----------+----------+------------+-----------------+-------------------+\n",
      "\n"
     ]
    }
   ],
   "source": [
    "# Both dataframes from postgresql\n",
    "postgresqlDF = df3.join(df4, ['id'], \"fullouter\")\n",
    "postgresqlDF = postgresqlDF.select('id', 'customer_id', 'amount', 'first_name', 'last_name', 'phone_number', 'address', 'transaction_ts')\n",
    "postgresqlDF.show(100)"
   ]
  },
  {
   "cell_type": "code",
   "execution_count": 307,
   "metadata": {},
   "outputs": [
    {
     "name": "stdout",
     "output_type": "stream",
     "text": [
      "root\n",
      " |-- id: long (nullable = true)\n",
      " |-- type: long (nullable = true)\n",
      " |-- store_id: long (nullable = true)\n",
      " |-- amount: string (nullable = true)\n",
      " |-- customer_first_name: string (nullable = true)\n",
      " |-- customer_last_name: string (nullable = true)\n",
      " |-- timestamp: string (nullable = true)\n",
      "\n"
     ]
    }
   ],
   "source": [
    "json_parquetDF.printSchema()"
   ]
  },
  {
   "cell_type": "code",
   "execution_count": 308,
   "metadata": {},
   "outputs": [
    {
     "name": "stdout",
     "output_type": "stream",
     "text": [
      "root\n",
      " |-- id: long (nullable = true)\n",
      " |-- customer_id: long (nullable = true)\n",
      " |-- amount: string (nullable = true)\n",
      " |-- customer_first_name: string (nullable = true)\n",
      " |-- customer_last_name: string (nullable = true)\n",
      " |-- phone_number: string (nullable = true)\n",
      " |-- address: string (nullable = true)\n",
      " |-- timestamp: string (nullable = true)\n",
      "\n"
     ]
    }
   ],
   "source": [
    "postgresqlDF = postgresqlDF.withColumnRenamed('first_name', 'customer_first_name')\n",
    "postgresqlDF = postgresqlDF.withColumnRenamed('last_name', 'customer_last_name')\n",
    "postgresqlDF = postgresqlDF.withColumnRenamed('transaction_ts', 'timestamp')\n",
    "\"\"\"\n",
    "Change id str -> long\n",
    "customer_id str -> long\n",
    "\"\"\"\n",
    "postgresqlDF = postgresqlDF.withColumn('id', postgresqlDF['id'].cast(LongType()))\n",
    "postgresqlDF = postgresqlDF.withColumn('customer_id', postgresqlDF['id'].cast(LongType()))\n",
    "postgresqlDF.printSchema()"
   ]
  },
  {
   "cell_type": "code",
   "execution_count": 388,
   "metadata": {},
   "outputs": [],
   "source": [
    "unified_model = json_parquetDF.join(postgresqlDF, ['id', 'amount', 'customer_first_name', 'customer_last_name', 'timestamp'], 'fullouter')\n",
    "unified_model = unified_model.select('id', 'customer_id', 'store_id', 'type', 'amount', 'customer_first_name', 'customer_last_name', 'phone_number', 'address', 'timestamp')\n",
    "# unified_model.show(300)"
   ]
  },
  {
   "cell_type": "code",
   "execution_count": 319,
   "metadata": {},
   "outputs": [],
   "source": [
    "\n",
    "# unified_model.coalesce(1)\n",
    "unified_model = unified_model.repartition(2)\n",
    "unified_model.write.csv('/Users/gonzo/Desktop/capstone_project/data_storage/storage/test', header=True)"
   ]
  },
  {
   "cell_type": "code",
   "execution_count": 353,
   "metadata": {},
   "outputs": [
    {
     "name": "stdout",
     "output_type": "stream",
     "text": [
      "root\n",
      " |-- id: long (nullable = true)\n",
      " |-- customer_id: long (nullable = true)\n",
      " |-- store_id: long (nullable = true)\n",
      " |-- type: long (nullable = true)\n",
      " |-- amount: string (nullable = true)\n",
      " |-- customer_first_name: string (nullable = true)\n",
      " |-- customer_last_name: string (nullable = true)\n",
      " |-- phone_number: string (nullable = true)\n",
      " |-- address: string (nullable = true)\n",
      " |-- timestamp: string (nullable = true)\n",
      "\n"
     ]
    }
   ],
   "source": [
    "unified_model.printSchema()"
   ]
  },
  {
   "cell_type": "code",
   "execution_count": 389,
   "metadata": {},
   "outputs": [
    {
     "data": {
      "text/plain": [
       "2"
      ]
     },
     "execution_count": 389,
     "metadata": {},
     "output_type": "execute_result"
    }
   ],
   "source": [
    "unified_model.repartition(2).rdd.getNumPartitions()"
   ]
  },
  {
   "cell_type": "code",
   "execution_count": 390,
   "metadata": {},
   "outputs": [
    {
     "name": "stdout",
     "output_type": "stream",
     "text": [
      "+---+-----------+--------+----+------------+-------------------+------------------+------------+-----------------+-------------------+\n",
      "| id|customer_id|store_id|type|float_amount|customer_first_name|customer_last_name|phone_number|          address|          timestamp|\n",
      "+---+-----------+--------+----+------------+-------------------+------------------+------------+-----------------+-------------------+\n",
      "|  2|       null|    null|   1|        4.18|             Brenda|           Sanchez|        null|             null|2022-10-02T19:27:13|\n",
      "|  4|       null|    null|   0|    23199.16|               Dawn|              Hill|        null|             null|2022-10-03T02:55:52|\n",
      "|  6|       null|    null|   0|    84143.57|            Jeffrey|          Gonzales|        null|             null|2022-10-04T01:20:01|\n",
      "|  7|       null|      17|null|      711.35|             Thomas|            Oliver|        null|             null|2022-10-05T10:52:27|\n",
      "| 10|       null|      20|null|        67.4|            William|             Reyes|        null|             null|2022-10-04T10:15:45|\n",
      "| 11|       null|       2|null|     4516.14|             Jeremy|             Moody|        null|             null|2022-10-03T13:18:38|\n",
      "| 12|         12|    null|null|       37.96|           Patricia|          Williams|  1624390971|Port Benjaminfurt|2022-10-03 02:41:43|\n",
      "| 17|         17|    null|null|    65981.69|          Stephanie|            Chavez|  9952997214|    Michelleburgh|2022-10-02 15:00:14|\n",
      "| 18|         18|    null|null|      654.36|             Denise|          Anderson|  5718166161|      Melissafurt|2022-10-03 12:56:18|\n",
      "| 19|       null|      11|null|        2.12|             Dustin|           Hancock|        null|             null|2022-10-03T16:55:46|\n",
      "| 19|       null|    null|   0|        7.75|              Sarah|             Craig|        null|             null|2022-10-04T19:55:02|\n",
      "| 23|       null|      18|null|       24.07|             Brandi|             Ortiz|        null|             null|2022-10-03T16:48:06|\n",
      "| 25|       null|       8|null|     4462.03|              Erika|             Green|        null|             null|2022-10-03T15:37:49|\n",
      "| 28|       null|      13|null|       73.06|            Anthony|            Harper|        null|             null|2022-10-03T14:18:29|\n",
      "| 33|         33|    null|null|     2917.29|               John|             Burns|  8671875822|Port Benjaminfurt|2022-10-03 05:58:39|\n",
      "| 40|       null|      18|null|        1.88|             Hayley|            Herman|        null|             null|2022-10-03T07:06:27|\n",
      "| 41|       null|      10|null|     2210.49|             Meghan|             Davis|        null|             null|2022-10-02T16:42:22|\n",
      "| 41|         41|    null|null|       81.96|           Veronica|          Williams|  4852270998|         Lanefurt|2022-10-02 19:11:14|\n",
      "| 43|         43|    null|null|       91.78|            Zachary|            Ramsey|  6457314142|        Hicksview|2022-10-05 05:53:04|\n",
      "| 45|       null|      17|null|      654.54|             Joshua|           Johnson|        null|             null|2022-10-02T15:59:26|\n",
      "+---+-----------+--------+----+------------+-------------------+------------------+------------+-----------------+-------------------+\n",
      "only showing top 20 rows\n",
      "\n"
     ]
    }
   ],
   "source": [
    "\"\"\"\n",
    "Transform amount str -> float\n",
    "\"\"\"\n",
    "def transform_amount(x) -> list:\n",
    "    return float(x[1:].replace(',', ''))\n",
    "\n",
    "transformUDF = sqlf.udf(lambda x : transform_amount(x), FloatType())\n",
    "test_df = unified_model.withColumn('float_amount', transformUDF(unified_model.amount))\n",
    "unified_model = test_df.select('id', 'customer_id', 'store_id', 'type', 'float_amount', 'customer_first_name', 'customer_last_name', 'phone_number', 'address', 'timestamp')\n",
    "unified_model.show()"
   ]
  },
  {
   "cell_type": "code",
   "execution_count": 391,
   "metadata": {},
   "outputs": [
    {
     "name": "stdout",
     "output_type": "stream",
     "text": [
      "+----+-----------------+------------------+\n",
      "|type|            Total|Total_transactions|\n",
      "+----+-----------------+------------------+\n",
      "|   1|507014.9718411267|                46|\n",
      "+----+-----------------+------------------+\n",
      "\n"
     ]
    }
   ],
   "source": [
    "# Count and sum amount transactions for each type (online or offline(in store)) for day\n",
    "online = unified_model.filter(unified_model.type == 1).groupBy(unified_model.type).agg(sqlf.sum('float_amount').alias('Total'), sqlf.count('*').alias('Total_transactions'))\n",
    "online.show()"
   ]
  },
  {
   "cell_type": "code",
   "execution_count": 392,
   "metadata": {},
   "outputs": [
    {
     "name": "stdout",
     "output_type": "stream",
     "text": [
      "+----+------------------+------------------+\n",
      "|type|             Total|Total_transactions|\n",
      "+----+------------------+------------------+\n",
      "|   0|416384.93764860183|                54|\n",
      "+----+------------------+------------------+\n",
      "\n"
     ]
    }
   ],
   "source": [
    "# Count and sum amount transactions for each type (online or offline(in store)) for day\n",
    "offline = unified_model.filter(unified_model.type == 0).groupBy(unified_model.type).agg(sqlf.sum('float_amount').alias('Total'), sqlf.count('*').alias('Total_transactions'))\n",
    "offline.show()"
   ]
  },
  {
   "cell_type": "code",
   "execution_count": 393,
   "metadata": {},
   "outputs": [
    {
     "name": "stdout",
     "output_type": "stream",
     "text": [
      "+--------+-------------------+------------------+\n",
      "|store_id|Number_Transactions|Total_transactions|\n",
      "+--------+-------------------+------------------+\n",
      "|      19|                  7|159202.05113983154|\n",
      "|       7|                  8| 17103.25972723961|\n",
      "|    null|                200|2108326.1374286786|\n",
      "|       6|                 13|178035.97977387905|\n",
      "|       9|                 12|127308.06613391638|\n",
      "|      17|                 11| 92913.98154425621|\n",
      "|       5|                  8|  203422.657913208|\n",
      "|       1|                 12| 274127.8973016739|\n",
      "|      10|                 11|133775.20075827837|\n",
      "|       3|                  7|155361.42032670975|\n",
      "|      12|                 11|182003.42019462585|\n",
      "|       8|                 14|324316.81068754196|\n",
      "|      11|                 11|192654.62814463675|\n",
      "|       2|                  9| 83981.44904321432|\n",
      "|       4|                  8| 58352.48837661743|\n",
      "|      13|                  5|10794.219762563705|\n",
      "|      18|                 10| 9224.699713587761|\n",
      "|      14|                 15|120518.09949111938|\n",
      "|      15|                  8| 16448.02958369255|\n",
      "|      20|                 12|197631.50071525574|\n",
      "+--------+-------------------+------------------+\n",
      "only showing top 20 rows\n",
      "\n"
     ]
    }
   ],
   "source": [
    "# Count and sum transaction for each store\n",
    "stores_metrics = unified_model.groupBy(unified_model.store_id).agg(sqlf.count('*').alias('Number_Transactions'), sqlf.sum('float_amount').alias('Total_transactions'))\n",
    "stores_metrics.show()"
   ]
  },
  {
   "cell_type": "code",
   "execution_count": 397,
   "metadata": {},
   "outputs": [
    {
     "name": "stdout",
     "output_type": "stream",
     "text": [
      "+-----------------+-----+------------------+\n",
      "|          address|Total|      Transactions|\n",
      "+-----------------+-----+------------------+\n",
      "|       Robertland|    4|  76071.6396484375|\n",
      "|         Allenton|    3|17870.060585021973|\n",
      "|             null|  300|3477939.7497224137|\n",
      "|      Lake Karina|    7|159957.65662384033|\n",
      "|     Edwardsburgh|    2| 622.5600242614746|\n",
      "|         Lanefurt|    5|29834.430786132812|\n",
      "|    Port Loriview|    3| 27612.91039276123|\n",
      "|New Marthaborough|    3| 36311.05953025818|\n",
      "|        Smithberg|    7|  66597.2815989852|\n",
      "|      Veronicaton|    7| 46609.33814525604|\n",
      "|    Michelleburgh|    4|119296.95797157288|\n",
      "|        Hicksview|    3| 4204.259979248047|\n",
      "|      Melissafurt|    6|  76940.2188911438|\n",
      "|  Lake Jamesville|    2|3209.6200561523438|\n",
      "|     Brownchester|    7| 50072.25079250336|\n",
      "|Port Benjaminfurt|    9|  238838.906229496|\n",
      "|        Erikville|    7| 24468.70987224579|\n",
      "|     West Nichole|    6|118525.74819087982|\n",
      "|       Averymouth|    6| 19814.55973815918|\n",
      "|         Clayview|    6|15937.509662628174|\n",
      "+-----------------+-----+------------------+\n",
      "only showing top 20 rows\n",
      "\n"
     ]
    }
   ],
   "source": [
    "cities_transactions = unified_model.groupBy('address').agg(sqlf.count('*').alias('Total'), sqlf.sum(unified_model.float_amount).alias('Transactions'))\n",
    "cities_transactions.show()"
   ]
  },
  {
   "cell_type": "code",
   "execution_count": null,
   "metadata": {},
   "outputs": [],
   "source": []
  }
 ],
 "metadata": {
  "kernelspec": {
   "display_name": "Python 3.10.4 ('CapstoneENV')",
   "language": "python",
   "name": "python3"
  },
  "language_info": {
   "codemirror_mode": {
    "name": "ipython",
    "version": 3
   },
   "file_extension": ".py",
   "mimetype": "text/x-python",
   "name": "python",
   "nbconvert_exporter": "python",
   "pygments_lexer": "ipython3",
   "version": "3.10.4"
  },
  "orig_nbformat": 4,
  "vscode": {
   "interpreter": {
    "hash": "874b0dd84e8b98467c3d8042fd47d9e77e6c7558a12d29c4392edcac270f293e"
   }
  }
 },
 "nbformat": 4,
 "nbformat_minor": 2
}
